{
  "cells": [
    {
      "cell_type": "code",
      "execution_count": null,
      "id": "ef9c4ec5-1216-464d-b7a7-fb2bacdd6f9d",
      "metadata": {
        "id": "ef9c4ec5-1216-464d-b7a7-fb2bacdd6f9d",
        "outputId": "698855a9-9dd7-4fb0-8ee2-aec903d3ad39"
      },
      "outputs": [
        {
          "name": "stdout",
          "output_type": "stream",
          "text": [
            "Requirement already satisfied: imutils in c:\\windows\\system32\\openvino_env\\lib\\site-packages (0.5.4)\n"
          ]
        }
      ],
      "source": [
        "!pip install imutils"
      ]
    },
    {
      "cell_type": "code",
      "execution_count": null,
      "id": "db9fddbd-0156-4f1b-8658-7cdd51af9fbc",
      "metadata": {
        "id": "db9fddbd-0156-4f1b-8658-7cdd51af9fbc"
      },
      "outputs": [],
      "source": [
        "from __future__ import print_function\n",
        "from pyimagesearching.basicmotiondetector import BasicMotionDetector\n",
        "from imutils.video import VideoStream\n",
        "import numpy as np\n",
        "import datetime\n",
        "import imutils\n",
        "import time\n",
        "import cv2"
      ]
    },
    {
      "cell_type": "code",
      "execution_count": null,
      "id": "cc34d128-ee2a-4468-a0cf-0293d9807837",
      "metadata": {
        "id": "cc34d128-ee2a-4468-a0cf-0293d9807837",
        "outputId": "f63fa6fd-8764-434c-cf31-e89479dacfaf"
      },
      "outputs": [
        {
          "name": "stdout",
          "output_type": "stream",
          "text": [
            "[INFO] starting cameras...\n"
          ]
        }
      ],
      "source": [
        "print(\"[INFO] starting cameras...\")\n",
        "webcam = VideoStream(src=0).start()\n",
        "picam = VideoStream(src=1).start()\n",
        "time.sleep(2.0)"
      ]
    },
    {
      "cell_type": "code",
      "execution_count": null,
      "id": "67e549b4-65f7-4b31-849b-828133b202e1",
      "metadata": {
        "id": "67e549b4-65f7-4b31-849b-828133b202e1"
      },
      "outputs": [],
      "source": [
        "camMotion = BasicMotionDetector()\n",
        "piMotion = BasicMotionDetector()\n",
        "total = 0"
      ]
    },
    {
      "cell_type": "code",
      "execution_count": null,
      "id": "8fe35725-831d-4648-8ce2-798903e63fd7",
      "metadata": {
        "id": "8fe35725-831d-4648-8ce2-798903e63fd7",
        "outputId": "6135df75-4d97-492c-baa3-537c055fd773"
      },
      "outputs": [
        {
          "name": "stdout",
          "output_type": "stream",
          "text": [
            "[INFO] cleaning up...\n"
          ]
        }
      ],
      "source": [
        "# loop over frames from the video streams\n",
        "while True:\n",
        "\t# initialize the list of frames that have been processed\n",
        "\tframes = []\n",
        "\t# loop over the frames and their respective motion detectors\n",
        "\tfor (stream, motion) in zip((webcam, picam), (camMotion, piMotion)):\n",
        "\t\t# read the next frame from the video stream and resize\n",
        "\t\t# it to have a maximum width of 400 pixels\n",
        "\t\tframe = stream.read()\n",
        "\t\tframe = imutils.resize(frame, width=400)\n",
        "\t\t# convert the frame to grayscale, blur it slightly, update\n",
        "\t\t# the motion detector\n",
        "\t\tgray = cv2.cvtColor(frame, cv2.COLOR_BGR2GRAY)\n",
        "\t\tgray = cv2.GaussianBlur(gray, (21, 21), 0)\n",
        "\t\tlocs = motion.update(gray)\n",
        "\t\t# we should allow the motion detector to \"run\" for a bit\n",
        "\t\t# and accumulate a set of frames to form a nice average\n",
        "\t\tif total < 32:\n",
        "\t\t\tframes.append(frame)\n",
        "\t\t\tcontinue\n",
        "        # otherwise, check to see if motion was detected\n",
        "\t\tif len(locs) > 0:\n",
        "\t\t\t# initialize the minimum and maximum (x, y)-coordinates,\n",
        "\t\t\t# respectively\n",
        "\t\t\t(minX, minY) = (np.inf, np.inf)\n",
        "\t\t\t(maxX, maxY) = (-np.inf, -np.inf)\n",
        "\t\t\t# loop over the locations of motion and accumulate the\n",
        "\t\t\t# minimum and maximum locations of the bounding boxes\n",
        "\t\t\tfor l in locs:\n",
        "\t\t\t\t(x, y, w, h) = cv2.boundingRect(l)\n",
        "\t\t\t\t(minX, maxX) = (min(minX, x), max(maxX, x + w))\n",
        "\t\t\t\t(minY, maxY) = (min(minY, y), max(maxY, y + h))\n",
        "\t\t\t# draw the bounding box\n",
        "\t\t\tcv2.rectangle(frame, (minX, minY), (maxX, maxY),\n",
        "\t\t\t\t(0, 0, 255), 3)\n",
        "\t\t\n",
        "\t\t# update the frames list\n",
        "\t\tframes.append(frame)\n",
        "    # increment the total number of frames read and grab the \n",
        "\t# current timestamp\n",
        "\ttotal += 1\n",
        "\ttimestamp = datetime.datetime.now()\n",
        "\tts = timestamp.strftime(\"%A %d %B %Y %I:%M:%S%p\")\n",
        "\t# loop over the frames a second time\n",
        "\tfor (frame, name) in zip(frames, (\"Webcam\", \"Picamera\")):\n",
        "\t\t# draw the timestamp on the frame and display it\n",
        "\t\tcv2.putText(frame, ts, (10, frame.shape[0] - 10),\n",
        "\t\t\tcv2.FONT_HERSHEY_SIMPLEX, 0.35, (0, 0, 255), 1)\n",
        "\t\tcv2.imshow(name, frame)\n",
        "\t# check to see if a key was pressed\n",
        "\tkey = cv2.waitKey(1) & 0xFF\n",
        "\t# if the `q` key was pressed, break from the loop\n",
        "\tif key == ord(\"q\"):\n",
        "\t\tbreak\n",
        "# do a bit of cleanup\n",
        "print(\"[INFO] cleaning up...\")\n",
        "cv2.destroyAllWindows()\n",
        "webcam.stop()\n",
        "picam.stop()"
      ]
    },
    {
      "cell_type": "code",
      "execution_count": null,
      "id": "737d1088-328b-4bb5-9c53-563d21a3f37c",
      "metadata": {
        "id": "737d1088-328b-4bb5-9c53-563d21a3f37c"
      },
      "outputs": [],
      "source": []
    },
    {
      "cell_type": "code",
      "execution_count": null,
      "id": "20d1b88e-e59e-4f07-b3cc-09ff6f85bb3c",
      "metadata": {
        "id": "20d1b88e-e59e-4f07-b3cc-09ff6f85bb3c"
      },
      "outputs": [],
      "source": []
    }
  ],
  "metadata": {
    "kernelspec": {
      "display_name": "Python 3 (ipykernel)",
      "language": "python",
      "name": "python3"
    },
    "language_info": {
      "codemirror_mode": {
        "name": "ipython",
        "version": 3
      },
      "file_extension": ".py",
      "mimetype": "text/x-python",
      "name": "python",
      "nbconvert_exporter": "python",
      "pygments_lexer": "ipython3",
      "version": "3.9.10"
    },
    "colab": {
      "provenance": []
    }
  },
  "nbformat": 4,
  "nbformat_minor": 5
}